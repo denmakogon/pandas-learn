{
 "cells": [
  {
   "cell_type": "markdown",
   "id": "f4ed2584",
   "metadata": {},
   "source": [
    "<h1 style='color:white;font-size:25px;font-weight:700;margin-top:30px'>Розвязування задачі на основі Pandas</h1>"
   ]
  },
  {
   "cell_type": "code",
   "execution_count": 47,
   "id": "13db06c5",
   "metadata": {},
   "outputs": [],
   "source": [
    "import pandas as pd"
   ]
  },
  {
   "cell_type": "markdown",
   "id": "2da28bb2",
   "metadata": {},
   "source": [
    "<h2 style = 'color:#white;font-size:20px'>1. Імпорт даних та читання <b><i>csv</i></b> файлу </h2>"
   ]
  },
  {
   "cell_type": "code",
   "execution_count": 48,
   "id": "22d07da2",
   "metadata": {},
   "outputs": [
    {
     "name": "stdout",
     "output_type": "stream",
     "text": [
      "<class 'pandas.core.frame.DataFrame'>\n",
      "RangeIndex: 254 entries, 0 to 253\n",
      "Data columns (total 9 columns):\n",
      " #   Column          Non-Null Count  Dtype  \n",
      "---  ------          --------------  -----  \n",
      " 0   Order ID        254 non-null    int64  \n",
      " 1   Date            254 non-null    object \n",
      " 2   Product         254 non-null    object \n",
      " 3   Price           254 non-null    float64\n",
      " 4   Quantity        254 non-null    float64\n",
      " 5   Purchase Type   254 non-null    object \n",
      " 6   Payment Method  254 non-null    object \n",
      " 7   Manager         254 non-null    object \n",
      " 8   City            254 non-null    object \n",
      "dtypes: float64(2), int64(1), object(6)\n",
      "memory usage: 18.0+ KB\n"
     ]
    }
   ],
   "source": [
    "df = pd.read_csv('C:/Users/den/Desktop/pandas/pandas-learn/data/restaraunts.csv')\n",
    "\n",
    "df.info()"
   ]
  },
  {
   "cell_type": "markdown",
   "id": "36c59f24",
   "metadata": {},
   "source": [
    "<h2 style = 'color:#white;font-size:20px'>2. Визиваємо процедуру яка описує к-сть та інші числові значення для числових показників </h2>\n"
   ]
  },
  {
   "cell_type": "code",
   "execution_count": 49,
   "id": "0a22d8bd",
   "metadata": {},
   "outputs": [
    {
     "data": {
      "text/html": [
       "<div>\n",
       "<style scoped>\n",
       "    .dataframe tbody tr th:only-of-type {\n",
       "        vertical-align: middle;\n",
       "    }\n",
       "\n",
       "    .dataframe tbody tr th {\n",
       "        vertical-align: top;\n",
       "    }\n",
       "\n",
       "    .dataframe thead th {\n",
       "        text-align: right;\n",
       "    }\n",
       "</style>\n",
       "<table border=\"1\" class=\"dataframe\">\n",
       "  <thead>\n",
       "    <tr style=\"text-align: right;\">\n",
       "      <th></th>\n",
       "      <th>Order ID</th>\n",
       "      <th>Price</th>\n",
       "      <th>Quantity</th>\n",
       "    </tr>\n",
       "  </thead>\n",
       "  <tbody>\n",
       "    <tr>\n",
       "      <th>count</th>\n",
       "      <td>254.000000</td>\n",
       "      <td>254.000000</td>\n",
       "      <td>254.000000</td>\n",
       "    </tr>\n",
       "    <tr>\n",
       "      <th>mean</th>\n",
       "      <td>10584.133858</td>\n",
       "      <td>7.102323</td>\n",
       "      <td>460.611457</td>\n",
       "    </tr>\n",
       "    <tr>\n",
       "      <th>std</th>\n",
       "      <td>75.889181</td>\n",
       "      <td>4.341855</td>\n",
       "      <td>214.888699</td>\n",
       "    </tr>\n",
       "    <tr>\n",
       "      <th>min</th>\n",
       "      <td>10452.000000</td>\n",
       "      <td>2.950000</td>\n",
       "      <td>200.400000</td>\n",
       "    </tr>\n",
       "    <tr>\n",
       "      <th>25%</th>\n",
       "      <td>10520.250000</td>\n",
       "      <td>3.490000</td>\n",
       "      <td>201.010000</td>\n",
       "    </tr>\n",
       "    <tr>\n",
       "      <th>50%</th>\n",
       "      <td>10583.500000</td>\n",
       "      <td>4.990000</td>\n",
       "      <td>538.880000</td>\n",
       "    </tr>\n",
       "    <tr>\n",
       "      <th>75%</th>\n",
       "      <td>10649.750000</td>\n",
       "      <td>9.950000</td>\n",
       "      <td>677.440000</td>\n",
       "    </tr>\n",
       "    <tr>\n",
       "      <th>max</th>\n",
       "      <td>10713.000000</td>\n",
       "      <td>29.050000</td>\n",
       "      <td>754.430000</td>\n",
       "    </tr>\n",
       "  </tbody>\n",
       "</table>\n",
       "</div>"
      ],
      "text/plain": [
       "           Order ID       Price    Quantity\n",
       "count    254.000000  254.000000  254.000000\n",
       "mean   10584.133858    7.102323  460.611457\n",
       "std       75.889181    4.341855  214.888699\n",
       "min    10452.000000    2.950000  200.400000\n",
       "25%    10520.250000    3.490000  201.010000\n",
       "50%    10583.500000    4.990000  538.880000\n",
       "75%    10649.750000    9.950000  677.440000\n",
       "max    10713.000000   29.050000  754.430000"
      ]
     },
     "execution_count": 49,
     "metadata": {},
     "output_type": "execute_result"
    }
   ],
   "source": [
    "df.describe()"
   ]
  },
  {
   "cell_type": "markdown",
   "id": "08d22fbe",
   "metadata": {},
   "source": [
    "<h2 style = 'color:#white;font-size:20px'>3. Викликаємо процедуру для перевірки пустих значень</h2>"
   ]
  },
  {
   "cell_type": "code",
   "execution_count": 50,
   "id": "4ab94a09",
   "metadata": {},
   "outputs": [
    {
     "data": {
      "text/plain": [
       "Order ID          0\n",
       "Date              0\n",
       "Product           0\n",
       "Price             0\n",
       "Quantity          0\n",
       "Purchase Type     0\n",
       "Payment Method    0\n",
       "Manager           0\n",
       "City              0\n",
       "dtype: int64"
      ]
     },
     "execution_count": 50,
     "metadata": {},
     "output_type": "execute_result"
    }
   ],
   "source": [
    "df.isna().sum()"
   ]
  },
  {
   "cell_type": "markdown",
   "id": "597c7d62",
   "metadata": {},
   "source": [
    "<h2 style = 'color:#white;font-size:20px'>4. Найбільш бажаний спосіб оплати? </h2>"
   ]
  },
  {
   "cell_type": "code",
   "execution_count": 51,
   "id": "546f2727",
   "metadata": {},
   "outputs": [
    {
     "data": {
      "text/plain": [
       "Payment Method\n",
       "Credit Card    120\n",
       "Cash            76\n",
       "Gift Card       58\n",
       "Name: count, dtype: int64"
      ]
     },
     "execution_count": 51,
     "metadata": {},
     "output_type": "execute_result"
    }
   ],
   "source": [
    "df['Payment Method'].value_counts()"
   ]
  },
  {
   "cell_type": "markdown",
   "id": "b3b142af",
   "metadata": {},
   "source": [
    "<h2 style = 'color:#white;font-size:20px'>5. Найбільш продаваний продукт – за кількістю та за доходом? </h2>"
   ]
  },
  {
   "cell_type": "code",
   "execution_count": 52,
   "id": "85e7e788",
   "metadata": {},
   "outputs": [
    {
     "data": {
      "text/plain": [
       "Product\n",
       "Beverages             34983.14\n",
       "Fries                 32034.34\n",
       "Burgers               29022.31\n",
       "Chicken Sandwiches    11135.92\n",
       "Sides & Other          9819.60\n",
       "Name: Quantity, dtype: float64"
      ]
     },
     "execution_count": 52,
     "metadata": {},
     "output_type": "execute_result"
    }
   ],
   "source": [
    "df.groupby('Product')['Quantity'].sum().sort_values(ascending=False)"
   ]
  },
  {
   "cell_type": "code",
   "execution_count": 53,
   "id": "f4be04e8",
   "metadata": {},
   "outputs": [
    {
     "data": {
      "text/plain": [
       "Product\n",
       "Burgers               376999.8069\n",
       "Fries                 125674.2903\n",
       "Chicken Sandwiches    114641.6950\n",
       "Beverages             103200.2630\n",
       "Sides & Other          48999.8040\n",
       "Name: Revenue, dtype: float64"
      ]
     },
     "execution_count": 53,
     "metadata": {},
     "output_type": "execute_result"
    }
   ],
   "source": [
    "df ['Revenue'] = df['Price'] * df['Quantity']\n",
    "\n",
    "df.groupby('Product')['Revenue'].sum().sort_values(ascending=False)"
   ]
  },
  {
   "cell_type": "markdown",
   "id": "32b38e0e",
   "metadata": {},
   "source": [
    "<h2 style = 'color:#white;font-size:20px'>6. Яке місто мало максимальний дохід, або який менеджер отримав максимальний дохід? </h2>"
   ]
  },
  {
   "cell_type": "code",
   "execution_count": 54,
   "id": "2a90736d",
   "metadata": {},
   "outputs": [
    {
     "data": {
      "text/plain": [
       "City\n",
       "Lisbon    241714.1157\n",
       "London    211201.0406\n",
       "Madrid    136200.2665\n",
       "Berlin    100600.1313\n",
       "Paris      79800.3051\n",
       "Name: Revenue, dtype: float64"
      ]
     },
     "execution_count": 54,
     "metadata": {},
     "output_type": "execute_result"
    }
   ],
   "source": [
    "df.groupby('City')['Revenue'].sum().sort_values(ascending=False)"
   ]
  },
  {
   "cell_type": "code",
   "execution_count": 55,
   "id": "4ebacad8",
   "metadata": {},
   "outputs": [
    {
     "data": {
      "text/plain": [
       "Manager\n",
       "Joao Silva            225074.7665\n",
       "Tom Jackson           209201.0263\n",
       "Pablo Perez           107600.2549\n",
       "Walter Muller         100600.1313\n",
       "Remy Monet             72800.2690\n",
       "       Pablo Perez     23200.0330\n",
       "Joao    Silva          16639.3492\n",
       "       Remy Monet       4000.0258\n",
       "Pablo  Perez            2199.9913\n",
       "Pablo   Perez           2199.9913\n",
       "Tom      Jackson        2000.0143\n",
       "Remy    Monet           2000.0143\n",
       "Pablo    Perez           999.9960\n",
       "Remy     Monet           999.9960\n",
       "Name: Revenue, dtype: float64"
      ]
     },
     "execution_count": 55,
     "metadata": {},
     "output_type": "execute_result"
    }
   ],
   "source": [
    "df.groupby('Manager')['Revenue'].sum().sort_values(ascending=False)"
   ]
  },
  {
   "cell_type": "markdown",
   "id": "dfb3e87f",
   "metadata": {},
   "source": [
    "<h2 style = 'color:#white;font-size:20px'>7. Дохід за датами. </h2>"
   ]
  },
  {
   "cell_type": "code",
   "execution_count": 56,
   "id": "2b49bc7a",
   "metadata": {},
   "outputs": [
    {
     "data": {
      "text/plain": [
       "Date\n",
       "07-11-2022     5200.0023\n",
       "20-11-2022     8200.0466\n",
       "04-12-2022     9000.1007\n",
       "08-11-2022    12400.0731\n",
       "10-11-2022    13200.0426\n",
       "26-11-2022    13200.0638\n",
       "27-11-2022    13399.9799\n",
       "25-11-2022    13399.9799\n",
       "28-11-2022    13400.0454\n",
       "29-11-2022    13400.0454\n",
       "01-12-2022    13400.1144\n",
       "22-11-2022    13599.9918\n",
       "24-11-2022    13600.0259\n",
       "15-11-2022    13600.0305\n",
       "16-11-2022    13600.0305\n",
       "30-11-2022    13600.0914\n",
       "23-11-2022    13800.0378\n",
       "19-11-2022    14000.0194\n",
       "12-11-2022    14000.0535\n",
       "07-12-2022    14000.0535\n",
       "02-12-2022    14000.0535\n",
       "17-11-2022    14000.0535\n",
       "03-12-2022    14000.0535\n",
       "21-11-2022    14000.0838\n",
       "06-12-2022    14000.1225\n",
       "09-11-2022    14200.0386\n",
       "05-12-2022    14200.0386\n",
       "08-12-2022    14200.0995\n",
       "11-11-2022    14400.0156\n",
       "15-12-2022    14400.0945\n",
       "18-11-2022    14400.1114\n",
       "14-12-2022    14600.0106\n",
       "10-12-2022    14600.0616\n",
       "09-12-2022    14600.0616\n",
       "13-12-2022    14600.0616\n",
       "12-12-2022    14600.0616\n",
       "16-12-2022    15000.0371\n",
       "11-12-2022    15000.0881\n",
       "17-12-2022    15400.0950\n",
       "18-12-2022    15600.0111\n",
       "19-12-2022    15799.9613\n",
       "20-12-2022    16000.0073\n",
       "23-12-2022    16000.0218\n",
       "21-12-2022    16399.9694\n",
       "24-12-2022    16399.9839\n",
       "22-12-2022    16599.9644\n",
       "25-12-2022    16599.9789\n",
       "29-12-2022    16800.0780\n",
       "27-12-2022    17000.0199\n",
       "26-12-2022    17000.0199\n",
       "28-12-2022    17599.9770\n",
       "14-11-2022    17839.3445\n",
       "13-11-2022    27674.4512\n",
       "Name: Revenue, dtype: float64"
      ]
     },
     "execution_count": 56,
     "metadata": {},
     "output_type": "execute_result"
    }
   ],
   "source": [
    "df.groupby('Date')['Revenue'].sum().sort_values(ascending=True)"
   ]
  },
  {
   "cell_type": "markdown",
   "id": "c0f2114d",
   "metadata": {},
   "source": [
    "<h2 style = 'color:#white;font-size:20px'>8. Середній дохід</h2>"
   ]
  },
  {
   "cell_type": "code",
   "execution_count": 57,
   "id": "1e339271",
   "metadata": {},
   "outputs": [
    {
     "data": {
      "text/plain": [
       "np.float64(3029.589996850394)"
      ]
     },
     "execution_count": 57,
     "metadata": {},
     "output_type": "execute_result"
    }
   ],
   "source": [
    "df['Revenue'].mean()"
   ]
  },
  {
   "cell_type": "markdown",
   "id": "0019f855",
   "metadata": {},
   "source": [
    "<h2 style = 'color:#white;font-size:20px'>9. Середній дохід за листопад та грудень</h2>"
   ]
  },
  {
   "cell_type": "code",
   "execution_count": 58,
   "id": "f9b37782",
   "metadata": {},
   "outputs": [
    {
     "data": {
      "text/plain": [
       "np.float64(3081.230069109948)"
      ]
     },
     "execution_count": 58,
     "metadata": {},
     "output_type": "execute_result"
    }
   ],
   "source": [
    "df['Date'] = pd.to_datetime(df['Date'],format='mixed') \n",
    "\n",
    "df['Month'] = df['Date'].dt.month\n",
    "\n",
    "df[(df['Month'] == 11) | (df['Month']==12)]['Revenue'].mean()"
   ]
  },
  {
   "cell_type": "markdown",
   "id": "3c40fc44",
   "metadata": {},
   "source": [
    "<h2 style = 'color:#white;font-size:20px'>10. Стандартне відхилення доходу та кількості?</h2>"
   ]
  },
  {
   "cell_type": "code",
   "execution_count": 59,
   "id": "61b937b7",
   "metadata": {},
   "outputs": [
    {
     "data": {
      "text/plain": [
       "np.float64(2420.11837804107)"
      ]
     },
     "execution_count": 59,
     "metadata": {},
     "output_type": "execute_result"
    }
   ],
   "source": [
    "df['Revenue'].std()"
   ]
  },
  {
   "cell_type": "code",
   "execution_count": 60,
   "id": "e540077c",
   "metadata": {},
   "outputs": [
    {
     "data": {
      "text/plain": [
       "np.float64(214.88869921528874)"
      ]
     },
     "execution_count": 60,
     "metadata": {},
     "output_type": "execute_result"
    }
   ],
   "source": [
    "df['Quantity'].std()"
   ]
  },
  {
   "cell_type": "markdown",
   "id": "f7218344",
   "metadata": {},
   "source": [
    "<h2 style = 'color:#white;font-size:20px'>11. Чи збільшується дохід з часом, чи зменшується?</h2>"
   ]
  },
  {
   "cell_type": "code",
   "execution_count": 61,
   "id": "28731063",
   "metadata": {},
   "outputs": [
    {
     "data": {
      "text/plain": [
       "Month\n",
       "1     2680.022880\n",
       "2     2800.010700\n",
       "3     2800.010700\n",
       "4     4500.050350\n",
       "5     2840.007720\n",
       "6     2800.024500\n",
       "7     2400.006975\n",
       "8     2955.574733\n",
       "9     2880.010020\n",
       "10    3088.900467\n",
       "11    2970.252953\n",
       "12    3195.749009\n",
       "Name: Revenue, dtype: float64"
      ]
     },
     "execution_count": 61,
     "metadata": {},
     "output_type": "execute_result"
    }
   ],
   "source": [
    "df.groupby('Month')['Revenue'].mean()"
   ]
  },
  {
   "cell_type": "markdown",
   "id": "1cce1074",
   "metadata": {},
   "source": [
    "<h2 style = 'color:#white;font-size:20px'>12. Середня «кількість проданих товарів» та «середній дохід» для кожного продукту?</h2>"
   ]
  },
  {
   "cell_type": "code",
   "execution_count": null,
   "id": "5b65da61",
   "metadata": {},
   "outputs": [
    {
     "data": {
      "text/html": [
       "<div>\n",
       "<style scoped>\n",
       "    .dataframe tbody tr th:only-of-type {\n",
       "        vertical-align: middle;\n",
       "    }\n",
       "\n",
       "    .dataframe tbody tr th {\n",
       "        vertical-align: top;\n",
       "    }\n",
       "\n",
       "    .dataframe thead th {\n",
       "        text-align: right;\n",
       "    }\n",
       "</style>\n",
       "<table border=\"1\" class=\"dataframe\">\n",
       "  <thead>\n",
       "    <tr style=\"text-align: right;\">\n",
       "      <th></th>\n",
       "      <th>Revenue</th>\n",
       "      <th>Quantity</th>\n",
       "    </tr>\n",
       "    <tr>\n",
       "      <th>Product</th>\n",
       "      <th></th>\n",
       "      <th></th>\n",
       "    </tr>\n",
       "  </thead>\n",
       "  <tbody>\n",
       "    <tr>\n",
       "      <th>Burgers</th>\n",
       "      <td>7249.996287</td>\n",
       "      <td>558.121346</td>\n",
       "    </tr>\n",
       "    <tr>\n",
       "      <th>Fries</th>\n",
       "      <td>2464.201771</td>\n",
       "      <td>628.124314</td>\n",
       "    </tr>\n",
       "    <tr>\n",
       "      <th>Chicken Sandwiches</th>\n",
       "      <td>2204.647981</td>\n",
       "      <td>214.152308</td>\n",
       "    </tr>\n",
       "    <tr>\n",
       "      <th>Beverages</th>\n",
       "      <td>2064.005260</td>\n",
       "      <td>699.662800</td>\n",
       "    </tr>\n",
       "    <tr>\n",
       "      <th>Sides &amp; Other</th>\n",
       "      <td>999.996000</td>\n",
       "      <td>200.400000</td>\n",
       "    </tr>\n",
       "  </tbody>\n",
       "</table>\n",
       "</div>"
      ],
      "text/plain": [
       "                        Revenue    Quantity\n",
       "Product                                    \n",
       "Burgers             7249.996287  558.121346\n",
       "Fries               2464.201771  628.124314\n",
       "Chicken Sandwiches  2204.647981  214.152308\n",
       "Beverages           2064.005260  699.662800\n",
       "Sides & Other        999.996000  200.400000"
      ]
     },
     "execution_count": 62,
     "metadata": {},
     "output_type": "execute_result"
    },
    {
     "ename": "",
     "evalue": "",
     "output_type": "error",
     "traceback": [
      "\u001b[1;31mThe Kernel crashed while executing code in the current cell or a previous cell. \n",
      "\u001b[1;31mPlease review the code in the cell(s) to identify a possible cause of the failure. \n",
      "\u001b[1;31mClick <a href='https://aka.ms/vscodeJupyterKernelCrash'>here</a> for more info. \n",
      "\u001b[1;31mView Jupyter <a href='command:jupyter.viewOutput'>log</a> for further details."
     ]
    }
   ],
   "source": [
    "df.groupby('Product')[['Revenue','Quantity']].agg({'Revenue':'mean','Quantity':'mean'}).sort_values('Revenue',ascending=False)"
   ]
  }
 ],
 "metadata": {
  "kernelspec": {
   "display_name": "Python 3",
   "language": "python",
   "name": "python3"
  },
  "language_info": {
   "codemirror_mode": {
    "name": "ipython",
    "version": 3
   },
   "file_extension": ".py",
   "mimetype": "text/x-python",
   "name": "python",
   "nbconvert_exporter": "python",
   "pygments_lexer": "ipython3",
   "version": "3.13.5"
  }
 },
 "nbformat": 4,
 "nbformat_minor": 5
}
