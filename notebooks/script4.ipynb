{
 "cells": [
  {
   "cell_type": "markdown",
   "id": "f4ed2584",
   "metadata": {},
   "source": [
    "<h1 style='color:white;font-size:25px;font-weight:700;margin-top:30px'>Розвязування задачі на основі Pandas</h1>"
   ]
  },
  {
   "cell_type": "code",
   "execution_count": null,
   "id": "13db06c5",
   "metadata": {},
   "outputs": [],
   "source": [
    "import pandas as pd"
   ]
  },
  {
   "cell_type": "markdown",
   "id": "2da28bb2",
   "metadata": {},
   "source": [
    "<h2 style = 'color:#white;font-size:20px'>1. Імпорт даних та читання <b><i>csv</i></b> файлу </h2>"
   ]
  },
  {
   "cell_type": "code",
   "execution_count": null,
   "id": "22d07da2",
   "metadata": {},
   "outputs": [],
   "source": [
    "df = pd.read_csv('C:/Users/den/Desktop/pandas/pandas-learn/data/restaraunts.csv')\n",
    "\n",
    "df.info()"
   ]
  },
  {
   "cell_type": "markdown",
   "id": "36c59f24",
   "metadata": {},
   "source": [
    "<h2 style = 'color:#white;font-size:20px'>2. Визиваємо процедуру яка описує к-сть та інші числові значення для числових показників </h2>\n"
   ]
  },
  {
   "cell_type": "code",
   "execution_count": null,
   "id": "0a22d8bd",
   "metadata": {},
   "outputs": [],
   "source": [
    "df.describe()"
   ]
  },
  {
   "cell_type": "markdown",
   "id": "08d22fbe",
   "metadata": {},
   "source": [
    "<h2 style = 'color:#white;font-size:20px'>3. Викликаємо процедуру для перевірки пустих значень</h2>"
   ]
  },
  {
   "cell_type": "code",
   "execution_count": null,
   "id": "4ab94a09",
   "metadata": {},
   "outputs": [],
   "source": [
    "df.isna().sum()"
   ]
  },
  {
   "cell_type": "markdown",
   "id": "597c7d62",
   "metadata": {},
   "source": [
    "<h2 style = 'color:#white;font-size:20px'>4. Найбільш бажаний спосіб оплати? </h2>"
   ]
  },
  {
   "cell_type": "code",
   "execution_count": null,
   "id": "546f2727",
   "metadata": {},
   "outputs": [],
   "source": [
    "df['Payment Method'].value_counts()"
   ]
  },
  {
   "cell_type": "markdown",
   "id": "b3b142af",
   "metadata": {},
   "source": [
    "<h2 style = 'color:#white;font-size:20px'>5. Найбільш продаваний продукт – за кількістю та за доходом? </h2>"
   ]
  },
  {
   "cell_type": "code",
   "execution_count": null,
   "id": "85e7e788",
   "metadata": {},
   "outputs": [],
   "source": [
    "df.groupby('Product')['Quantity'].sum().sort_values(ascending=False)"
   ]
  },
  {
   "cell_type": "code",
   "execution_count": null,
   "id": "f4be04e8",
   "metadata": {},
   "outputs": [],
   "source": [
    "df ['Revenue'] = df['Price'] * df['Quantity']\n",
    "\n",
    "df.groupby('Product')['Revenue'].sum().sort_values(ascending=False)"
   ]
  },
  {
   "cell_type": "markdown",
   "id": "32b38e0e",
   "metadata": {},
   "source": [
    "<h2 style = 'color:#white;font-size:20px'>6. Яке місто мало максимальний дохід, або який менеджер отримав максимальний дохід? </h2>"
   ]
  },
  {
   "cell_type": "code",
   "execution_count": null,
   "id": "2a90736d",
   "metadata": {},
   "outputs": [],
   "source": [
    "df.groupby('City')['Revenue'].sum().sort_values(ascending=False)"
   ]
  },
  {
   "cell_type": "code",
   "execution_count": null,
   "id": "4ebacad8",
   "metadata": {},
   "outputs": [],
   "source": [
    "df.groupby('Manager')['Revenue'].sum().sort_values(ascending=False)"
   ]
  },
  {
   "cell_type": "markdown",
   "id": "dfb3e87f",
   "metadata": {},
   "source": [
    "<h2 style = 'color:#white;font-size:20px'>7. Дохід за датами. </h2>"
   ]
  },
  {
   "cell_type": "code",
   "execution_count": null,
   "id": "2b49bc7a",
   "metadata": {},
   "outputs": [],
   "source": [
    "df.groupby('Date')['Revenue'].sum().sort_values(ascending=True)"
   ]
  },
  {
   "cell_type": "markdown",
   "id": "c0f2114d",
   "metadata": {},
   "source": [
    "<h2 style = 'color:#white;font-size:20px'>8. Середній дохід</h2>"
   ]
  },
  {
   "cell_type": "code",
   "execution_count": null,
   "id": "1e339271",
   "metadata": {},
   "outputs": [],
   "source": [
    "df['Revenue'].mean()"
   ]
  },
  {
   "cell_type": "markdown",
   "id": "0019f855",
   "metadata": {},
   "source": [
    "<h2 style = 'color:#white;font-size:20px'>9. Середній дохід за листопад та грудень</h2>"
   ]
  },
  {
   "cell_type": "code",
   "execution_count": 36,
   "id": "f9b37782",
   "metadata": {},
   "outputs": [
    {
     "data": {
      "text/plain": [
       "np.float64(3081.230069109948)"
      ]
     },
     "execution_count": 36,
     "metadata": {},
     "output_type": "execute_result"
    }
   ],
   "source": [
    "df['Date'] = pd.to_datetime(df['Date'],format='mixed') \n",
    "\n",
    "df['Month'] = df['Date'].dt.month\n",
    "\n",
    "df[(df['Month'] == 11) | (df['Month']==12)]['Revenue'].mean()"
   ]
  },
  {
   "cell_type": "markdown",
   "id": "3c40fc44",
   "metadata": {},
   "source": [
    "<h2 style = 'color:#white;font-size:20px'>10. Стандартне відхилення доходу та кількості?</h2>"
   ]
  },
  {
   "cell_type": "code",
   "execution_count": 37,
   "id": "61b937b7",
   "metadata": {},
   "outputs": [
    {
     "data": {
      "text/plain": [
       "np.float64(2420.11837804107)"
      ]
     },
     "execution_count": 37,
     "metadata": {},
     "output_type": "execute_result"
    }
   ],
   "source": [
    "df['Revenue'].std()"
   ]
  },
  {
   "cell_type": "code",
   "execution_count": 38,
   "id": "e540077c",
   "metadata": {},
   "outputs": [
    {
     "data": {
      "text/plain": [
       "np.float64(214.88869921528874)"
      ]
     },
     "execution_count": 38,
     "metadata": {},
     "output_type": "execute_result"
    }
   ],
   "source": [
    "df['Quantity'].std()"
   ]
  },
  {
   "cell_type": "markdown",
   "id": "f7218344",
   "metadata": {},
   "source": [
    "<h2 style = 'color:#white;font-size:20px'>11. Чи збільшується дохід з часом, чи зменшується?</h2>"
   ]
  },
  {
   "cell_type": "code",
   "execution_count": 41,
   "id": "28731063",
   "metadata": {},
   "outputs": [
    {
     "data": {
      "text/plain": [
       "Month\n",
       "1     2680.022880\n",
       "2     2800.010700\n",
       "3     2800.010700\n",
       "4     4500.050350\n",
       "5     2840.007720\n",
       "6     2800.024500\n",
       "7     2400.006975\n",
       "8     2955.574733\n",
       "9     2880.010020\n",
       "10    3088.900467\n",
       "11    2970.252953\n",
       "12    3195.749009\n",
       "Name: Revenue, dtype: float64"
      ]
     },
     "execution_count": 41,
     "metadata": {},
     "output_type": "execute_result"
    }
   ],
   "source": [
    "df.groupby('Month')['Revenue'].mean()"
   ]
  },
  {
   "cell_type": "markdown",
   "id": "1cce1074",
   "metadata": {},
   "source": [
    "<h2 style = 'color:#white;font-size:20px'>12. Середня «кількість проданих товарів» та «середній дохід» для кожного продукту?</h2>"
   ]
  },
  {
   "cell_type": "code",
   "execution_count": 46,
   "id": "5b65da61",
   "metadata": {},
   "outputs": [
    {
     "data": {
      "text/html": [
       "<div>\n",
       "<style scoped>\n",
       "    .dataframe tbody tr th:only-of-type {\n",
       "        vertical-align: middle;\n",
       "    }\n",
       "\n",
       "    .dataframe tbody tr th {\n",
       "        vertical-align: top;\n",
       "    }\n",
       "\n",
       "    .dataframe thead th {\n",
       "        text-align: right;\n",
       "    }\n",
       "</style>\n",
       "<table border=\"1\" class=\"dataframe\">\n",
       "  <thead>\n",
       "    <tr style=\"text-align: right;\">\n",
       "      <th></th>\n",
       "      <th>Revenue</th>\n",
       "      <th>Quantity</th>\n",
       "    </tr>\n",
       "    <tr>\n",
       "      <th>Product</th>\n",
       "      <th></th>\n",
       "      <th></th>\n",
       "    </tr>\n",
       "  </thead>\n",
       "  <tbody>\n",
       "    <tr>\n",
       "      <th>Burgers</th>\n",
       "      <td>7249.996287</td>\n",
       "      <td>558.121346</td>\n",
       "    </tr>\n",
       "    <tr>\n",
       "      <th>Fries</th>\n",
       "      <td>2464.201771</td>\n",
       "      <td>628.124314</td>\n",
       "    </tr>\n",
       "    <tr>\n",
       "      <th>Chicken Sandwiches</th>\n",
       "      <td>2204.647981</td>\n",
       "      <td>214.152308</td>\n",
       "    </tr>\n",
       "    <tr>\n",
       "      <th>Beverages</th>\n",
       "      <td>2064.005260</td>\n",
       "      <td>699.662800</td>\n",
       "    </tr>\n",
       "    <tr>\n",
       "      <th>Sides &amp; Other</th>\n",
       "      <td>999.996000</td>\n",
       "      <td>200.400000</td>\n",
       "    </tr>\n",
       "  </tbody>\n",
       "</table>\n",
       "</div>"
      ],
      "text/plain": [
       "                        Revenue    Quantity\n",
       "Product                                    \n",
       "Burgers             7249.996287  558.121346\n",
       "Fries               2464.201771  628.124314\n",
       "Chicken Sandwiches  2204.647981  214.152308\n",
       "Beverages           2064.005260  699.662800\n",
       "Sides & Other        999.996000  200.400000"
      ]
     },
     "execution_count": 46,
     "metadata": {},
     "output_type": "execute_result"
    }
   ],
   "source": [
    "df.groupby('Product')[['Revenue','Quantity']].agg({'Revenue':'mean','Quantity':'mean'}).sort_values('Revenue',ascending=False)"
   ]
  }
 ],
 "metadata": {
  "kernelspec": {
   "display_name": "Python 3",
   "language": "python",
   "name": "python3"
  },
  "language_info": {
   "codemirror_mode": {
    "name": "ipython",
    "version": 3
   },
   "file_extension": ".py",
   "mimetype": "text/x-python",
   "name": "python",
   "nbconvert_exporter": "python",
   "pygments_lexer": "ipython3",
   "version": "3.13.5"
  }
 },
 "nbformat": 4,
 "nbformat_minor": 5
}
