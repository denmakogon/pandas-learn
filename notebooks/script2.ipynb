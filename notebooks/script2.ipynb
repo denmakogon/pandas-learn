{
 "cells": [
  {
   "cell_type": "markdown",
   "id": "2235fda5",
   "metadata": {},
   "source": [
    "<h1 style='color:white;font-size:25px;font-weight:700;margin-top:30px'>Pandas (отримання даних, створення періодних стовпців, групування за різними ознаками)</h1>"
   ]
  },
  {
   "cell_type": "markdown",
   "id": "84e667f5",
   "metadata": {},
   "source": [
    "<h2 style = 'color:#white;font-size:20px'>1. Імпорт даних та читання <b><i>csv</i></b> файлу </h2>"
   ]
  },
  {
   "cell_type": "code",
   "execution_count": 18,
   "id": "ed6971a4",
   "metadata": {},
   "outputs": [
    {
     "name": "stdout",
     "output_type": "stream",
     "text": [
      "<class 'pandas.core.frame.DataFrame'>\n",
      "RangeIndex: 799 entries, 0 to 798\n",
      "Data columns (total 11 columns):\n",
      " #   Column             Non-Null Count  Dtype  \n",
      "---  ------             --------------  -----  \n",
      " 0   Address            799 non-null    object \n",
      " 1   City               799 non-null    object \n",
      " 2   CustomerID         799 non-null    int64  \n",
      " 3   CustomerFirstName  799 non-null    object \n",
      " 4   CustomerLastName   799 non-null    object \n",
      " 5   SquareFootage      799 non-null    object \n",
      " 6   SquareMeters       799 non-null    int64  \n",
      " 7   Acreage            799 non-null    float64\n",
      " 8   AskingPrice        799 non-null    float64\n",
      " 9   SalePrice          799 non-null    float64\n",
      " 10  SaleDate           799 non-null    object \n",
      "dtypes: float64(3), int64(2), object(6)\n",
      "memory usage: 68.8+ KB\n"
     ]
    }
   ],
   "source": [
    "import pandas as pd\n",
    "df = pd.read_csv('C:/Users/den/Desktop/pandas/pandas-learn/data/Home_Sale_Data.csv')\n",
    "\n",
    "df.info()"
   ]
  },
  {
   "cell_type": "markdown",
   "id": "759d892c",
   "metadata": {},
   "source": [
    "<h2 style = 'color:#white;font-size:20px'>2. Отримання інформації про місяць в якому відбувся продаж</h2>"
   ]
  },
  {
   "cell_type": "code",
   "execution_count": 19,
   "id": "ae0dbaa0",
   "metadata": {},
   "outputs": [
    {
     "data": {
      "text/html": [
       "<div>\n",
       "<style scoped>\n",
       "    .dataframe tbody tr th:only-of-type {\n",
       "        vertical-align: middle;\n",
       "    }\n",
       "\n",
       "    .dataframe tbody tr th {\n",
       "        vertical-align: top;\n",
       "    }\n",
       "\n",
       "    .dataframe thead th {\n",
       "        text-align: right;\n",
       "    }\n",
       "</style>\n",
       "<table border=\"1\" class=\"dataframe\">\n",
       "  <thead>\n",
       "    <tr style=\"text-align: right;\">\n",
       "      <th></th>\n",
       "      <th>Address</th>\n",
       "      <th>Month</th>\n",
       "    </tr>\n",
       "  </thead>\n",
       "  <tbody>\n",
       "    <tr>\n",
       "      <th>0</th>\n",
       "      <td>48023 Pearl Street</td>\n",
       "      <td>2</td>\n",
       "    </tr>\n",
       "    <tr>\n",
       "      <th>1</th>\n",
       "      <td>73842 Hartford Road</td>\n",
       "      <td>10</td>\n",
       "    </tr>\n",
       "    <tr>\n",
       "      <th>2</th>\n",
       "      <td>72026 Franklin Court</td>\n",
       "      <td>2</td>\n",
       "    </tr>\n",
       "    <tr>\n",
       "      <th>3</th>\n",
       "      <td>12946 Cypress Court</td>\n",
       "      <td>2</td>\n",
       "    </tr>\n",
       "    <tr>\n",
       "      <th>4</th>\n",
       "      <td>12033 Warren Street</td>\n",
       "      <td>4</td>\n",
       "    </tr>\n",
       "    <tr>\n",
       "      <th>...</th>\n",
       "      <td>...</td>\n",
       "      <td>...</td>\n",
       "    </tr>\n",
       "    <tr>\n",
       "      <th>794</th>\n",
       "      <td>92344 Redwood Drive</td>\n",
       "      <td>11</td>\n",
       "    </tr>\n",
       "    <tr>\n",
       "      <th>795</th>\n",
       "      <td>59377 Marshall Street</td>\n",
       "      <td>12</td>\n",
       "    </tr>\n",
       "    <tr>\n",
       "      <th>796</th>\n",
       "      <td>10030 Grant Avenue</td>\n",
       "      <td>6</td>\n",
       "    </tr>\n",
       "    <tr>\n",
       "      <th>797</th>\n",
       "      <td>78844 Cardinal Drive</td>\n",
       "      <td>1</td>\n",
       "    </tr>\n",
       "    <tr>\n",
       "      <th>798</th>\n",
       "      <td>98133 Carriage Drive</td>\n",
       "      <td>4</td>\n",
       "    </tr>\n",
       "  </tbody>\n",
       "</table>\n",
       "<p>799 rows × 2 columns</p>\n",
       "</div>"
      ],
      "text/plain": [
       "                   Address  Month\n",
       "0       48023 Pearl Street      2\n",
       "1      73842 Hartford Road     10\n",
       "2     72026 Franklin Court      2\n",
       "3      12946 Cypress Court      2\n",
       "4      12033 Warren Street      4\n",
       "..                     ...    ...\n",
       "794    92344 Redwood Drive     11\n",
       "795  59377 Marshall Street     12\n",
       "796     10030 Grant Avenue      6\n",
       "797   78844 Cardinal Drive      1\n",
       "798   98133 Carriage Drive      4\n",
       "\n",
       "[799 rows x 2 columns]"
      ]
     },
     "execution_count": 19,
     "metadata": {},
     "output_type": "execute_result"
    }
   ],
   "source": [
    "df['SaleDate'] = pd.to_datetime(df['SaleDate'])\n",
    "\n",
    "df['Month'] = df['SaleDate'].dt.month\n",
    "\n",
    "df[['Address','Month']]"
   ]
  },
  {
   "cell_type": "markdown",
   "id": "ce8616ab",
   "metadata": {},
   "source": [
    "<h2 style = 'color:#white;font-size:20px'>3. Групування за місяцем та отримання к-сті проданих в конкретний місяць</h2>"
   ]
  },
  {
   "cell_type": "code",
   "execution_count": 20,
   "id": "c2bf8bcd",
   "metadata": {},
   "outputs": [
    {
     "data": {
      "text/plain": [
       "Month\n",
       "1     62\n",
       "2     77\n",
       "3     85\n",
       "4     68\n",
       "5     58\n",
       "6     59\n",
       "7     64\n",
       "8     67\n",
       "9     68\n",
       "10    69\n",
       "11    65\n",
       "12    57\n",
       "Name: SalePrice, dtype: int64"
      ]
     },
     "execution_count": 20,
     "metadata": {},
     "output_type": "execute_result"
    }
   ],
   "source": [
    "df_group_count_salePrice = df.groupby(by='Month')['SalePrice'].count()\n",
    "\n",
    "df_group_count_salePrice"
   ]
  },
  {
   "cell_type": "markdown",
   "id": "5155494e",
   "metadata": {},
   "source": [
    "<h2 style = 'color:#white;font-size:20px'>4. Групування за місяцем та отримання суми комісії яку було сплачено</h2>"
   ]
  },
  {
   "cell_type": "code",
   "execution_count": 21,
   "id": "1ae4eb44",
   "metadata": {},
   "outputs": [
    {
     "data": {
      "text/plain": [
       "Month\n",
       "1     2422420.765\n",
       "2     2929314.773\n",
       "3     3305927.711\n",
       "4     2852671.633\n",
       "5     2897209.883\n",
       "6     2226638.355\n",
       "7     2888400.355\n",
       "8     3429634.614\n",
       "9     2294347.579\n",
       "10    3194189.775\n",
       "11    2959840.426\n",
       "12    2807174.616\n",
       "Name: Commision, dtype: float64"
      ]
     },
     "execution_count": 21,
     "metadata": {},
     "output_type": "execute_result"
    }
   ],
   "source": [
    "df['Commision'] = df['SalePrice'] * 0.1\n",
    "\n",
    "df_group_sum_commision = df.groupby(by='Month')['Commision'].sum()\n",
    "\n",
    "df_group_sum_commision"
   ]
  },
  {
   "cell_type": "markdown",
   "id": "f3d9db45",
   "metadata": {},
   "source": [
    "<h2 style = 'color:#white;font-size:20px'>5. Групування за місяцем та отримання середнього значення ціни продажу</h2>"
   ]
  },
  {
   "cell_type": "code",
   "execution_count": 22,
   "id": "92135645",
   "metadata": {},
   "outputs": [
    {
     "data": {
      "text/plain": [
       "Month\n",
       "1     390713.026613\n",
       "2     380430.490000\n",
       "3     388932.671882\n",
       "4     419510.534265\n",
       "5     499518.945345\n",
       "6     377396.331356\n",
       "7     451312.555469\n",
       "8     511885.763284\n",
       "9     337404.055735\n",
       "10    462926.054348\n",
       "11    455360.065538\n",
       "12    492486.774737\n",
       "Name: SalePrice, dtype: float64"
      ]
     },
     "execution_count": 22,
     "metadata": {},
     "output_type": "execute_result"
    }
   ],
   "source": [
    "df_group_mean_salePrice = df.groupby(by='Month')['SalePrice'].mean()\n",
    "\n",
    "df_group_mean_salePrice"
   ]
  },
  {
   "cell_type": "markdown",
   "id": "4cb8370c",
   "metadata": {},
   "source": [
    "<h2 style = 'color:#white;font-size:20px'>6. Групування за містом та отримання к-сті проданих в конкретний місяць</h2>"
   ]
  },
  {
   "cell_type": "code",
   "execution_count": 23,
   "id": "e385516d",
   "metadata": {},
   "outputs": [
    {
     "data": {
      "text/plain": [
       "City\n",
       "Covington, KY         70\n",
       "Erlanger, KY          43\n",
       "Florence, KY          98\n",
       "Frankfort, KY         35\n",
       "Georgetown, KY        60\n",
       "Jeffersontown, KY    103\n",
       "Lexington, KY         93\n",
       "Louieville, KY       169\n",
       "Nicholasville, KY     22\n",
       "Richmond, KY          40\n",
       "St. Matthews, KY      66\n",
       "Name: SalePrice, dtype: int64"
      ]
     },
     "execution_count": 23,
     "metadata": {},
     "output_type": "execute_result"
    }
   ],
   "source": [
    "df_group_count_salePrice = df.groupby(by='City')['SalePrice'].count()\n",
    "\n",
    "df_group_count_salePrice"
   ]
  },
  {
   "cell_type": "markdown",
   "id": "0a21ed34",
   "metadata": {},
   "source": [
    "<h2 style = 'color:#white;font-size:20px'>7. Групування за містом та отримання отримання середнього значення комісії</h2>"
   ]
  },
  {
   "cell_type": "code",
   "execution_count": 24,
   "id": "b4fe4a60",
   "metadata": {},
   "outputs": [
    {
     "data": {
      "text/plain": [
       "City\n",
       "Covington, KY        40291.567043\n",
       "Erlanger, KY         38016.848023\n",
       "Florence, KY         47460.578837\n",
       "Frankfort, KY        33565.283886\n",
       "Georgetown, KY       45515.704767\n",
       "Jeffersontown, KY    39837.740544\n",
       "Lexington, KY        45930.217441\n",
       "Louieville, KY       41422.633645\n",
       "Nicholasville, KY    44857.585636\n",
       "Richmond, KY         41719.407875\n",
       "St. Matthews, KY     47953.130242\n",
       "Name: Commision, dtype: float64"
      ]
     },
     "execution_count": 24,
     "metadata": {},
     "output_type": "execute_result"
    }
   ],
   "source": [
    "df_group_mean_commision = df.groupby(by='City')['Commision'].mean()\n",
    "\n",
    "df_group_mean_commision"
   ]
  }
 ],
 "metadata": {
  "kernelspec": {
   "display_name": "Python 3",
   "language": "python",
   "name": "python3"
  },
  "language_info": {
   "codemirror_mode": {
    "name": "ipython",
    "version": 3
   },
   "file_extension": ".py",
   "mimetype": "text/x-python",
   "name": "python",
   "nbconvert_exporter": "python",
   "pygments_lexer": "ipython3",
   "version": "3.13.5"
  }
 },
 "nbformat": 4,
 "nbformat_minor": 5
}
