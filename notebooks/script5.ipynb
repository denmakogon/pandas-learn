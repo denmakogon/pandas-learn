{
 "cells": [
  {
   "cell_type": "markdown",
   "id": "f4ed2584",
   "metadata": {},
   "source": [
    "<h1 style='color:white;font-size:25px;font-weight:700;margin-top:30px'>Розвязування задачі на основі Pandas</h1>"
   ]
  },
  {
   "cell_type": "code",
   "execution_count": 2,
   "id": "13db06c5",
   "metadata": {},
   "outputs": [],
   "source": [
    "import pandas as pd"
   ]
  },
  {
   "cell_type": "markdown",
   "id": "2da28bb2",
   "metadata": {},
   "source": [
    "<h2 style = 'color:#white;font-size:20px'>1. Імпорт даних та читання <b><i>csv</i></b> файлу </h2>"
   ]
  },
  {
   "cell_type": "code",
   "execution_count": 3,
   "id": "22d07da2",
   "metadata": {},
   "outputs": [
    {
     "name": "stdout",
     "output_type": "stream",
     "text": [
      "<class 'pandas.core.frame.DataFrame'>\n",
      "RangeIndex: 150000 entries, 0 to 149999\n",
      "Data columns (total 21 columns):\n",
      " #   Column                             Non-Null Count   Dtype  \n",
      "---  ------                             --------------   -----  \n",
      " 0   Date                               150000 non-null  object \n",
      " 1   Time                               150000 non-null  object \n",
      " 2   Booking ID                         150000 non-null  object \n",
      " 3   Booking Status                     150000 non-null  object \n",
      " 4   Customer ID                        150000 non-null  object \n",
      " 5   Vehicle Type                       150000 non-null  object \n",
      " 6   Pickup Location                    150000 non-null  object \n",
      " 7   Drop Location                      150000 non-null  object \n",
      " 8   Avg VTAT                           139500 non-null  float64\n",
      " 9   Avg CTAT                           102000 non-null  float64\n",
      " 10  Cancelled Rides by Customer        10500 non-null   float64\n",
      " 11  Reason for cancelling by Customer  10500 non-null   object \n",
      " 12  Cancelled Rides by Driver          27000 non-null   float64\n",
      " 13  Driver Cancellation Reason         27000 non-null   object \n",
      " 14  Incomplete Rides                   9000 non-null    float64\n",
      " 15  Incomplete Rides Reason            9000 non-null    object \n",
      " 16  Booking Value                      102000 non-null  float64\n",
      " 17  Ride Distance                      102000 non-null  float64\n",
      " 18  Driver Ratings                     93000 non-null   float64\n",
      " 19  Customer Rating                    93000 non-null   float64\n",
      " 20  Payment Method                     102000 non-null  object \n",
      "dtypes: float64(9), object(12)\n",
      "memory usage: 24.0+ MB\n"
     ]
    }
   ],
   "source": [
    "df = pd.read_csv('C:/Users/den/Desktop/pandas/pandas-learn/data/uberData.csv')\n",
    "\n",
    "df.info()"
   ]
  },
  {
   "cell_type": "markdown",
   "id": "36c59f24",
   "metadata": {},
   "source": [
    "<h2 style = 'color:#white;font-size:20px'>2. Визиваємо процедуру яка описує к-сть та інші числові значення для числових показників </h2>\n"
   ]
  },
  {
   "cell_type": "code",
   "execution_count": 4,
   "id": "0a22d8bd",
   "metadata": {},
   "outputs": [
    {
     "data": {
      "text/html": [
       "<div>\n",
       "<style scoped>\n",
       "    .dataframe tbody tr th:only-of-type {\n",
       "        vertical-align: middle;\n",
       "    }\n",
       "\n",
       "    .dataframe tbody tr th {\n",
       "        vertical-align: top;\n",
       "    }\n",
       "\n",
       "    .dataframe thead th {\n",
       "        text-align: right;\n",
       "    }\n",
       "</style>\n",
       "<table border=\"1\" class=\"dataframe\">\n",
       "  <thead>\n",
       "    <tr style=\"text-align: right;\">\n",
       "      <th></th>\n",
       "      <th>Avg VTAT</th>\n",
       "      <th>Avg CTAT</th>\n",
       "      <th>Cancelled Rides by Customer</th>\n",
       "      <th>Cancelled Rides by Driver</th>\n",
       "      <th>Incomplete Rides</th>\n",
       "      <th>Booking Value</th>\n",
       "      <th>Ride Distance</th>\n",
       "      <th>Driver Ratings</th>\n",
       "      <th>Customer Rating</th>\n",
       "    </tr>\n",
       "  </thead>\n",
       "  <tbody>\n",
       "    <tr>\n",
       "      <th>count</th>\n",
       "      <td>139500.000000</td>\n",
       "      <td>102000.000000</td>\n",
       "      <td>10500.0</td>\n",
       "      <td>27000.0</td>\n",
       "      <td>9000.0</td>\n",
       "      <td>102000.000000</td>\n",
       "      <td>102000.000000</td>\n",
       "      <td>93000.000000</td>\n",
       "      <td>93000.000000</td>\n",
       "    </tr>\n",
       "    <tr>\n",
       "      <th>mean</th>\n",
       "      <td>8.456352</td>\n",
       "      <td>29.149636</td>\n",
       "      <td>1.0</td>\n",
       "      <td>1.0</td>\n",
       "      <td>1.0</td>\n",
       "      <td>508.295912</td>\n",
       "      <td>24.637012</td>\n",
       "      <td>4.230992</td>\n",
       "      <td>4.404584</td>\n",
       "    </tr>\n",
       "    <tr>\n",
       "      <th>std</th>\n",
       "      <td>3.773564</td>\n",
       "      <td>8.902577</td>\n",
       "      <td>0.0</td>\n",
       "      <td>0.0</td>\n",
       "      <td>0.0</td>\n",
       "      <td>395.805774</td>\n",
       "      <td>14.002138</td>\n",
       "      <td>0.436871</td>\n",
       "      <td>0.437819</td>\n",
       "    </tr>\n",
       "    <tr>\n",
       "      <th>min</th>\n",
       "      <td>2.000000</td>\n",
       "      <td>10.000000</td>\n",
       "      <td>1.0</td>\n",
       "      <td>1.0</td>\n",
       "      <td>1.0</td>\n",
       "      <td>50.000000</td>\n",
       "      <td>1.000000</td>\n",
       "      <td>3.000000</td>\n",
       "      <td>3.000000</td>\n",
       "    </tr>\n",
       "    <tr>\n",
       "      <th>25%</th>\n",
       "      <td>5.300000</td>\n",
       "      <td>21.600000</td>\n",
       "      <td>1.0</td>\n",
       "      <td>1.0</td>\n",
       "      <td>1.0</td>\n",
       "      <td>234.000000</td>\n",
       "      <td>12.460000</td>\n",
       "      <td>4.100000</td>\n",
       "      <td>4.200000</td>\n",
       "    </tr>\n",
       "    <tr>\n",
       "      <th>50%</th>\n",
       "      <td>8.300000</td>\n",
       "      <td>28.800000</td>\n",
       "      <td>1.0</td>\n",
       "      <td>1.0</td>\n",
       "      <td>1.0</td>\n",
       "      <td>414.000000</td>\n",
       "      <td>23.720000</td>\n",
       "      <td>4.300000</td>\n",
       "      <td>4.500000</td>\n",
       "    </tr>\n",
       "    <tr>\n",
       "      <th>75%</th>\n",
       "      <td>11.300000</td>\n",
       "      <td>36.800000</td>\n",
       "      <td>1.0</td>\n",
       "      <td>1.0</td>\n",
       "      <td>1.0</td>\n",
       "      <td>689.000000</td>\n",
       "      <td>36.820000</td>\n",
       "      <td>4.600000</td>\n",
       "      <td>4.800000</td>\n",
       "    </tr>\n",
       "    <tr>\n",
       "      <th>max</th>\n",
       "      <td>20.000000</td>\n",
       "      <td>45.000000</td>\n",
       "      <td>1.0</td>\n",
       "      <td>1.0</td>\n",
       "      <td>1.0</td>\n",
       "      <td>4277.000000</td>\n",
       "      <td>50.000000</td>\n",
       "      <td>5.000000</td>\n",
       "      <td>5.000000</td>\n",
       "    </tr>\n",
       "  </tbody>\n",
       "</table>\n",
       "</div>"
      ],
      "text/plain": [
       "            Avg VTAT       Avg CTAT  Cancelled Rides by Customer  \\\n",
       "count  139500.000000  102000.000000                      10500.0   \n",
       "mean        8.456352      29.149636                          1.0   \n",
       "std         3.773564       8.902577                          0.0   \n",
       "min         2.000000      10.000000                          1.0   \n",
       "25%         5.300000      21.600000                          1.0   \n",
       "50%         8.300000      28.800000                          1.0   \n",
       "75%        11.300000      36.800000                          1.0   \n",
       "max        20.000000      45.000000                          1.0   \n",
       "\n",
       "       Cancelled Rides by Driver  Incomplete Rides  Booking Value  \\\n",
       "count                    27000.0            9000.0  102000.000000   \n",
       "mean                         1.0               1.0     508.295912   \n",
       "std                          0.0               0.0     395.805774   \n",
       "min                          1.0               1.0      50.000000   \n",
       "25%                          1.0               1.0     234.000000   \n",
       "50%                          1.0               1.0     414.000000   \n",
       "75%                          1.0               1.0     689.000000   \n",
       "max                          1.0               1.0    4277.000000   \n",
       "\n",
       "       Ride Distance  Driver Ratings  Customer Rating  \n",
       "count  102000.000000    93000.000000     93000.000000  \n",
       "mean       24.637012        4.230992         4.404584  \n",
       "std        14.002138        0.436871         0.437819  \n",
       "min         1.000000        3.000000         3.000000  \n",
       "25%        12.460000        4.100000         4.200000  \n",
       "50%        23.720000        4.300000         4.500000  \n",
       "75%        36.820000        4.600000         4.800000  \n",
       "max        50.000000        5.000000         5.000000  "
      ]
     },
     "execution_count": 4,
     "metadata": {},
     "output_type": "execute_result"
    }
   ],
   "source": [
    "df.describe()"
   ]
  },
  {
   "cell_type": "markdown",
   "id": "08d22fbe",
   "metadata": {},
   "source": [
    "<h2 style = 'color:#white;font-size:20px'>3. Викликаємо процедуру для перевірки пустих значень</h2>"
   ]
  },
  {
   "cell_type": "code",
   "execution_count": 5,
   "id": "4ab94a09",
   "metadata": {},
   "outputs": [
    {
     "data": {
      "text/plain": [
       "Date                                      0\n",
       "Time                                      0\n",
       "Booking ID                                0\n",
       "Booking Status                            0\n",
       "Customer ID                               0\n",
       "Vehicle Type                              0\n",
       "Pickup Location                           0\n",
       "Drop Location                             0\n",
       "Avg VTAT                              10500\n",
       "Avg CTAT                              48000\n",
       "Cancelled Rides by Customer          139500\n",
       "Reason for cancelling by Customer    139500\n",
       "Cancelled Rides by Driver            123000\n",
       "Driver Cancellation Reason           123000\n",
       "Incomplete Rides                     141000\n",
       "Incomplete Rides Reason              141000\n",
       "Booking Value                         48000\n",
       "Ride Distance                         48000\n",
       "Driver Ratings                        57000\n",
       "Customer Rating                       57000\n",
       "Payment Method                        48000\n",
       "dtype: int64"
      ]
     },
     "execution_count": 5,
     "metadata": {},
     "output_type": "execute_result"
    }
   ],
   "source": [
    "df.isna().sum()"
   ]
  },
  {
   "cell_type": "markdown",
   "id": "597c7d62",
   "metadata": {},
   "source": [
    "<h2 style = 'color:#white;font-size:20px'>4. Найбільш бажаний спосіб оплати? </h2>"
   ]
  },
  {
   "cell_type": "code",
   "execution_count": 32,
   "id": "546f2727",
   "metadata": {},
   "outputs": [
    {
     "data": {
      "text/plain": [
       "Payment Method\n",
       "UPI            45909\n",
       "Cash           25367\n",
       "Uber Wallet    12276\n",
       "Credit Card    10209\n",
       "Debit Card      8239\n",
       "Name: count, dtype: int64"
      ]
     },
     "execution_count": 32,
     "metadata": {},
     "output_type": "execute_result"
    }
   ],
   "source": [
    "df['Payment Method'].value_counts()"
   ]
  },
  {
   "cell_type": "markdown",
   "id": "256df322",
   "metadata": {},
   "source": [
    "<h2 style = 'color:#white;font-size:20px'>5. Найкращий місяць за сумою доходу </h2>"
   ]
  },
  {
   "cell_type": "code",
   "execution_count": 18,
   "id": "fd0c789d",
   "metadata": {},
   "outputs": [
    {
     "data": {
      "text/plain": [
       "Month\n",
       "3     520.535175\n",
       "12    514.778647\n",
       "11    512.233530\n",
       "10    509.266399\n",
       "6     508.913776\n",
       "4     508.784482\n",
       "2     507.836132\n",
       "9     506.676167\n",
       "1     505.100601\n",
       "7     502.791375\n",
       "8     501.598326\n",
       "5     501.426962\n",
       "Name: Booking Value, dtype: float64"
      ]
     },
     "execution_count": 18,
     "metadata": {},
     "output_type": "execute_result"
    }
   ],
   "source": [
    "df[\"Date\"] = pd.to_datetime(df[\"Date\"])\n",
    "\n",
    "df['Month'] = df[\"Date\"].dt.month\n",
    "\n",
    "df.groupby('Month')[\"Booking Value\"].mean().sort_values(ascending=False) "
   ]
  },
  {
   "cell_type": "markdown",
   "id": "fe060def",
   "metadata": {},
   "source": [
    "<h2 style = 'color:#white;font-size:20px'>6. Найдовший маршут та скільки було заплачено за нього</h2>"
   ]
  },
  {
   "cell_type": "code",
   "execution_count": 31,
   "id": "f4be04e8",
   "metadata": {},
   "outputs": [
    {
     "data": {
      "text/html": [
       "<div>\n",
       "<style scoped>\n",
       "    .dataframe tbody tr th:only-of-type {\n",
       "        vertical-align: middle;\n",
       "    }\n",
       "\n",
       "    .dataframe tbody tr th {\n",
       "        vertical-align: top;\n",
       "    }\n",
       "\n",
       "    .dataframe thead th {\n",
       "        text-align: right;\n",
       "    }\n",
       "</style>\n",
       "<table border=\"1\" class=\"dataframe\">\n",
       "  <thead>\n",
       "    <tr style=\"text-align: right;\">\n",
       "      <th></th>\n",
       "      <th>Date</th>\n",
       "      <th>Time</th>\n",
       "      <th>Booking ID</th>\n",
       "      <th>Booking Status</th>\n",
       "      <th>Customer ID</th>\n",
       "      <th>Vehicle Type</th>\n",
       "      <th>Pickup Location</th>\n",
       "      <th>Drop Location</th>\n",
       "      <th>Avg VTAT</th>\n",
       "      <th>Avg CTAT</th>\n",
       "      <th>...</th>\n",
       "      <th>Cancelled Rides by Driver</th>\n",
       "      <th>Driver Cancellation Reason</th>\n",
       "      <th>Incomplete Rides</th>\n",
       "      <th>Incomplete Rides Reason</th>\n",
       "      <th>Booking Value</th>\n",
       "      <th>Ride Distance</th>\n",
       "      <th>Driver Ratings</th>\n",
       "      <th>Customer Rating</th>\n",
       "      <th>Payment Method</th>\n",
       "      <th>Month</th>\n",
       "    </tr>\n",
       "  </thead>\n",
       "  <tbody>\n",
       "    <tr>\n",
       "      <th>119632</th>\n",
       "      <td>2024-12-15</td>\n",
       "      <td>19:37:24</td>\n",
       "      <td>\"CNR1476833\"</td>\n",
       "      <td>Completed</td>\n",
       "      <td>\"CID3994793\"</td>\n",
       "      <td>Auto</td>\n",
       "      <td>Faridabad Sector 15</td>\n",
       "      <td>Ardee City</td>\n",
       "      <td>14.7</td>\n",
       "      <td>35.9</td>\n",
       "      <td>...</td>\n",
       "      <td>NaN</td>\n",
       "      <td>NaN</td>\n",
       "      <td>NaN</td>\n",
       "      <td>NaN</td>\n",
       "      <td>1700.0</td>\n",
       "      <td>50.0</td>\n",
       "      <td>3.8</td>\n",
       "      <td>4.1</td>\n",
       "      <td>Uber Wallet</td>\n",
       "      <td>12</td>\n",
       "    </tr>\n",
       "  </tbody>\n",
       "</table>\n",
       "<p>1 rows × 22 columns</p>\n",
       "</div>"
      ],
      "text/plain": [
       "             Date      Time    Booking ID Booking Status   Customer ID  \\\n",
       "119632 2024-12-15  19:37:24  \"CNR1476833\"      Completed  \"CID3994793\"   \n",
       "\n",
       "       Vehicle Type      Pickup Location Drop Location  Avg VTAT  Avg CTAT  \\\n",
       "119632         Auto  Faridabad Sector 15    Ardee City      14.7      35.9   \n",
       "\n",
       "        ...  Cancelled Rides by Driver Driver Cancellation Reason  \\\n",
       "119632  ...                        NaN                        NaN   \n",
       "\n",
       "        Incomplete Rides Incomplete Rides Reason  Booking Value Ride Distance  \\\n",
       "119632               NaN                     NaN         1700.0          50.0   \n",
       "\n",
       "        Driver Ratings  Customer Rating  Payment Method  Month  \n",
       "119632             3.8              4.1     Uber Wallet     12  \n",
       "\n",
       "[1 rows x 22 columns]"
      ]
     },
     "execution_count": 31,
     "metadata": {},
     "output_type": "execute_result"
    }
   ],
   "source": [
    "df [   \n",
    "    \n",
    "    (df['Ride Distance'] == df['Ride Distance'].max()) &\n",
    "    (df['Booking Value'] == df.loc[df['Ride Distance'] == df['Ride Distance'].max(), 'Booking Value'].max())\n",
    "]\n"
   ]
  },
  {
   "cell_type": "markdown",
   "id": "32b38e0e",
   "metadata": {},
   "source": [
    "<h2 style = 'color:#white;font-size:20px'>7. Статус виконання та скільки замовлень було не виконано</h2>"
   ]
  },
  {
   "cell_type": "code",
   "execution_count": 51,
   "id": "2a90736d",
   "metadata": {},
   "outputs": [
    {
     "data": {
      "text/plain": [
       "Incomplete Rides Reason\n",
       "Customer Demand      1537913.0\n",
       "Other Issue          1515914.0\n",
       "Vehicle Breakdown    1531782.0\n",
       "Name: Booking Value, dtype: float64"
      ]
     },
     "execution_count": 51,
     "metadata": {},
     "output_type": "execute_result"
    }
   ],
   "source": [
    "df.groupby('Incomplete Rides Reason')['Booking Value'].sum()"
   ]
  },
  {
   "cell_type": "markdown",
   "id": "020fecd3",
   "metadata": {},
   "source": [
    "<h2 style = 'color:#white;font-size:20px'>8. Куди найчастіше подорожують та скільки на цьому заробляє UBER</h2>"
   ]
  },
  {
   "cell_type": "code",
   "execution_count": 60,
   "id": "4ebacad8",
   "metadata": {},
   "outputs": [
    {
     "data": {
      "text/html": [
       "<div>\n",
       "<style scoped>\n",
       "    .dataframe tbody tr th:only-of-type {\n",
       "        vertical-align: middle;\n",
       "    }\n",
       "\n",
       "    .dataframe tbody tr th {\n",
       "        vertical-align: top;\n",
       "    }\n",
       "\n",
       "    .dataframe thead th {\n",
       "        text-align: right;\n",
       "    }\n",
       "</style>\n",
       "<table border=\"1\" class=\"dataframe\">\n",
       "  <thead>\n",
       "    <tr style=\"text-align: right;\">\n",
       "      <th></th>\n",
       "      <th>Drop Location</th>\n",
       "      <th>Total Booking Value</th>\n",
       "    </tr>\n",
       "  </thead>\n",
       "  <tbody>\n",
       "    <tr>\n",
       "      <th>0</th>\n",
       "      <td>Ashram</td>\n",
       "      <td>457425.334853</td>\n",
       "    </tr>\n",
       "  </tbody>\n",
       "</table>\n",
       "</div>"
      ],
      "text/plain": [
       "  Drop Location  Total Booking Value\n",
       "0        Ashram        457425.334853"
      ]
     },
     "execution_count": 60,
     "metadata": {},
     "output_type": "execute_result"
    }
   ],
   "source": [
    "most_common_location = df['Drop Location'].value_counts().idxmax()\n",
    "total_value = df[df['Drop Location'] == most_common_location]['Booking Value'].sum()\n",
    "\n",
    "result = pd.DataFrame({\n",
    "    'Drop Location': [most_common_location],\n",
    "    'Total Booking Value': [total_value]\n",
    "})\n",
    "\n",
    "result"
   ]
  }
 ],
 "metadata": {
  "kernelspec": {
   "display_name": "Python 3",
   "language": "python",
   "name": "python3"
  },
  "language_info": {
   "codemirror_mode": {
    "name": "ipython",
    "version": 3
   },
   "file_extension": ".py",
   "mimetype": "text/x-python",
   "name": "python",
   "nbconvert_exporter": "python",
   "pygments_lexer": "ipython3",
   "version": "3.13.5"
  }
 },
 "nbformat": 4,
 "nbformat_minor": 5
}
